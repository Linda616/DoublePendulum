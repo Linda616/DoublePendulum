{
 "cells": [
  {
   "cell_type": "code",
   "execution_count": 592,
   "metadata": {},
   "outputs": [],
   "source": [
    "%matplotlib inline\n",
    "import math\n",
    "import numpy\n",
    "from numpy import*\n",
    "import numpy as np\n",
    "import pandas as pd\n",
    "import matplotlib\n",
    "import matplotlib.pyplot as plt\n",
    "font = {'family' : 'MicroSoft YaHei',\n",
    "        'weight' : 'bold',\n",
    "        'size'   : 10}\n",
    "matplotlib.rc(\"font\", **font)"
   ]
  },
  {
   "cell_type": "code",
   "execution_count": 593,
   "metadata": {},
   "outputs": [],
   "source": [
    "#设置观测量\n",
    "fre_obs=50#frequency\n",
    "err_ang=5.0*math.pi/180#degree\n",
    "err_roc=0.0*math.pi/180#degree/s\n",
    "\n",
    "#设置摆参数\n",
    "l1=0.1#米\n",
    "l2=0.2\n",
    "l3=0.15\n",
    "m1=0.1#kg\n",
    "m2=0.1\n",
    "m3=0.1\n",
    "g=10.0\n",
    "\n",
    "dt=0.001#积分时间步长 秒\n",
    "li=5000#积分时间\n",
    "\n",
    "#初始条件\n",
    "a1=160.0*math.pi/180#degree \n",
    "a2=100.0*math.pi/180\n",
    "r1=-350.0*math.pi/180#degree/s\n",
    "r2=100.0*math.pi/180\n",
    "#sin(degrees(60*math.pi/180))\n",
    "#sin(degrees(180))"
   ]
  },
  {
   "cell_type": "code",
   "execution_count": 594,
   "metadata": {},
   "outputs": [],
   "source": [
    "#定义摆的方程\n",
    "A11=-1.*l2*l3*m3*math.sin(a1-a2)*r2\n",
    "A12=l2*l3*m3*math.sin(a1-a2)*r2\n",
    "A21=-1.*l2*l3*m3*math.sin(a1-a2)*r1\n",
    "A22=l2*l3*m3*math.sin(a1-a2)*r1\n",
    "B11=m1*l1*l1+(m2+m3)*l2*l2\n",
    "B12=l2*l3*m3*math.cos(a1-a2)\n",
    "B21=l2*l3*m3*math.cos(a1-a2)\n",
    "B22=l3*l3*m3\n",
    "C1=-1.*(m3*l2*l3*r1*r2*sin(a1-a2))+g*m1*l1*sin(a1)-g*(m2+m3)*l2*sin(a1)\n",
    "C2=m3*l2*l3*r1*r2*sin(a1-a2)-g*m3*l3*sin(a2)\n",
    "\n",
    "#龙格库塔法求数值解（前期准备）\n",
    "A=np.mat([[A11,A12],[A21,A22]])\n",
    "B=np.mat([[B11,B12],[B21,B22]])\n",
    "C=np.mat([C1,C2])\n",
    "D=-(B.I)/A\n",
    "E=(B.I)*np.transpose(C)"
   ]
  },
  {
   "cell_type": "code",
   "execution_count": 595,
   "metadata": {},
   "outputs": [],
   "source": [
    "T=np.mat([[0,0,1,0],[0,0,0,1],[0,0,D[0,0],D[0,1]],[0,0,D[1,0],D[1,1]]])"
   ]
  },
  {
   "cell_type": "code",
   "execution_count": 596,
   "metadata": {},
   "outputs": [],
   "source": [
    "g=np.transpose(np.mat([0,0,E[0,0],E[1,0]]))"
   ]
  },
  {
   "cell_type": "code",
   "execution_count": 641,
   "metadata": {},
   "outputs": [],
   "source": [
    "#龙格库塔法的解\n",
    "def f(y):\n",
    "    dy=T*y+g\n",
    "    return dy"
   ]
  },
  {
   "cell_type": "code",
   "execution_count": 679,
   "metadata": {},
   "outputs": [],
   "source": [
    "#定义龙格库塔法\n",
    "#y=np.transpose([np.array([160,100,-350,100])]) \n",
    "y=np.transpose([np.array([a1,a2,r1,r2])]) \n",
    "def rk4(dt,y,f):\n",
    "    y0=f(y)\n",
    "    k1=dt*y0\n",
    "    k2=dt*f(y+k1/2)\n",
    "    k3=dt*f(y+k2/2)\n",
    "    k4=dt*f(y+k3)\n",
    "    y_next=y+k1/6+k2/3+k3/3+k4/6\n",
    "    return y_next"
   ]
  },
  {
   "cell_type": "code",
   "execution_count": 680,
   "metadata": {},
   "outputs": [
    {
     "data": {
      "image/png": "[encoded data removed]",
      "text/plain": [
       "<Figure size 432x288 with 1 Axes>"
      ]
     },
     "metadata": {
      "needs_background": "light"
     },
     "output_type": "display_data"
    }
   ],
   "source": [
    "#画图\n",
    "#time=np.transpose(np.linspace(0,5000,5000/dt))#以dt为采样间隔的数组\n",
    "#time=50\n",
    "t=0\n",
    "ys,ts,ya=[],[],[]\n",
    "while t<500:\n",
    "    y_next=rk4(t,y,f)\n",
    "    y=np.array(y_next)\n",
    "    t=t+1\n",
    "    #ya[0]代表取角度1画图像，ya[1]代表取角度2，ya[2]代表取角速度1，ya[2]代表取角速度2\n",
    "    ys.append(y[0])\n",
    "    ts.append(t)\n",
    "#d=array(ys).flatten()不用降维\n",
    "plt.plot(ts,ys,'r-o')\n",
    "plt.title(\"角度1随时间变化\")\n",
    "plt.xlabel('t')\n",
    "plt.ylabel('角度1')\n",
    "plt.show()"
   ]
  },
  {
   "cell_type": "code",
   "execution_count": null,
   "metadata": {},
   "outputs": [],
   "source": []
  }
 ],
 "metadata": {
  "kernelspec": {
   "display_name": "Python 3",
   "language": "python",
   "name": "python3"
  },
  "language_info": {
   "codemirror_mode": {
    "name": "ipython",
    "version": 3
   },
   "file_extension": ".py",
   "mimetype": "text/x-python",
   "name": "python",
   "nbconvert_exporter": "python",
   "pygments_lexer": "ipython3",
   "version": "3.7.3"
  }
 },
 "nbformat": 4,
 "nbformat_minor": 2
}
