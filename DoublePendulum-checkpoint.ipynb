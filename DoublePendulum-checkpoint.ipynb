{
 "cells": [
  {
   "cell_type": "code",
   "execution_count": 1,
   "metadata": {},
   "outputs": [
    {
     "name": "stderr",
     "output_type": "stream",
     "text": [
      "C:\\Users\\qinglin\\Anaconda3\\lib\\site-packages\\numpy\\_distributor_init.py:32: UserWarning: loaded more than 1 DLL from .libs:\n",
      "C:\\Users\\qinglin\\Anaconda3\\lib\\site-packages\\numpy\\.libs\\libopenblas.IPBC74C7KURV7CB2PKT5Z5FNR3SIBV4J.gfortran-win_amd64.dll\n",
      "C:\\Users\\qinglin\\Anaconda3\\lib\\site-packages\\numpy\\.libs\\libopenblas.PYQHXLVVQ7VESDPUVUADXEVJOBGHJPAY.gfortran-win_amd64.dll\n",
      "  stacklevel=1)\n"
     ]
    }
   ],
   "source": [
    "%matplotlib inline\n",
    "import math\n",
    "import numpy\n",
    "from numpy import*\n",
    "import numpy as np\n",
    "import pandas as pd\n",
    "import matplotlib\n",
    "import matplotlib.pyplot as plt"
   ]
  },
  {
   "cell_type": "code",
   "execution_count": 2,
   "metadata": {},
   "outputs": [],
   "source": [
    "#设置观测量\n",
    "fre_obs=50#frequency\n",
    "err_ang=5.0#degree\n",
    "err_roc=0.0#degree/s\n",
    "\n",
    "#设置摆参数\n",
    "l1=0.1#米\n",
    "l2=0.2\n",
    "l3=0.15\n",
    "m1=0.1#kg\n",
    "m2=0.1\n",
    "m3=0.1\n",
    "g=10.0\n",
    "\n",
    "dt=0.001#积分时间步长 秒\n",
    "li=5000#积分时间\n",
    "\n",
    "#初始条件\n",
    "a1=160.0#degree \n",
    "a2=100.0\n",
    "r1=-350.0#degree/s\n",
    "r2=100.0"
   ]
  },
  {
   "cell_type": "code",
   "execution_count": 3,
   "metadata": {},
   "outputs": [],
   "source": [
    "#定义摆的方程\n",
    "A11=-1.*l2*l3*m3*math.sin(a1-a2)*r2\n",
    "A12=l2*l3*m3*math.sin(a1-a2)*r2\n",
    "A21=-1.*l2*l3*m3*math.sin(a1-a2)*r1\n",
    "A22=l2*l3*m3*math.sin(a1-a2)*r1\n",
    "B11=m1*l1*l1+(m2+m3)*l2*l2\n",
    "B12=l2*l3*m3*math.cos(a1-a2)\n",
    "B21=l2*l3*m3*math.cos(a1-a2)\n",
    "B22=l3*l3*m3\n",
    "C1=-(m3*l2*l3*r1*r2*sin(a1-a2))+g*m1*l1*sin(a1)-g*(m2+m3)*l2*sin(a1)\n",
    "C2=m3*l2*l3*r1*r2*sin(a1-a2)-g*m3*l3*sin(a2)\n",
    "\n",
    "#龙格库塔法求数值解（前期准备）\n",
    "A=np.mat([[A11,A12],[A21,A22]])\n",
    "B=np.mat([[B11,B12],[B21,B22]])\n",
    "C=np.mat([C1,C2])\n",
    "y=np.transpose([np.array([a1,a2,r1,r2])]) \n",
    "D=-(B.I)/A\n",
    "E=(B.I)*np.transpose(C)"
   ]
  },
  {
   "cell_type": "code",
   "execution_count": 4,
   "metadata": {},
   "outputs": [],
   "source": [
    "T=np.mat([[0,0,1,0],[0,0,0,1],[0,0,D[0,0],D[0,1]],[0,0,D[1,0],D[1,1]]])"
   ]
  },
  {
   "cell_type": "code",
   "execution_count": 5,
   "metadata": {},
   "outputs": [],
   "source": [
    "g=np.transpose(np.array([0,0,E[0],E[1]]))"
   ]
  },
  {
   "cell_type": "code",
   "execution_count": 6,
   "metadata": {},
   "outputs": [],
   "source": [
    "def fun(y):\n",
    "    dy=T*y+g\n",
    "    return dy"
   ]
  },
  {
   "cell_type": "code",
   "execution_count": 7,
   "metadata": {},
   "outputs": [],
   "source": [
    "#定义龙格库塔法\n",
    "def rk4(dt,y):\n",
    "    dy=fun(y)\n",
    "    k1=dt*dy\n",
    "    dy=fun(y+k1/2)\n",
    "    k2=dt*dy\n",
    "    dy=fun(y+k2/2)\n",
    "    k3=dt*dy\n",
    "    dy=fun(y+k3)\n",
    "    k4=dt*dy\n",
    "    y_next=y+k1/6+k2/3+k3/3+k4/6\n",
    "    return y_next"
   ]
  },
  {
   "cell_type": "code",
   "execution_count": 12,
   "metadata": {},
   "outputs": [
    {
     "data": {
      "image/png": "[encoded data removed]",
      "text/plain": [
       "<Figure size 432x288 with 1 Axes>"
      ]
     },
     "metadata": {
      "needs_background": "light"
     },
     "output_type": "display_data"
    }
   ],
   "source": [
    "#画图\n",
    "#time=np.transpose(np.linspace(0,5000,5000/dt))#以dt为采样间隔的数组\n",
    "time=50\n",
    "i=1\n",
    "#y_new=np.transpose([np.array([0,0,0,0])])\n",
    "y_next=np.transpose(mat([0,0,0,0]))\n",
    "y_s=np.zeros((4,time))\n",
    "y_sim=mat(y_s) \n",
    "y_sim[:,0]=y\n",
    "for i in range(50):\n",
    "    rk4(dt,y_sim[:,i])\n",
    "    y_sim[:,i]=y_next\n",
    "    i=i+1\n",
    "    plt.plot(i,y_sim[1]) \n",
    "plt.show()"
   ]
  },
  {
   "cell_type": "code",
   "execution_count": null,
   "metadata": {},
   "outputs": [],
   "source": []
  }
 ],
 "metadata": {
  "kernelspec": {
   "display_name": "Python 3",
   "language": "python",
   "name": "python3"
  },
  "language_info": {
   "codemirror_mode": {
    "name": "ipython",
    "version": 3
   },
   "file_extension": ".py",
   "mimetype": "text/x-python",
   "name": "python",
   "nbconvert_exporter": "python",
   "pygments_lexer": "ipython3",
   "version": "3.7.3"
  }
 },
 "nbformat": 4,
 "nbformat_minor": 2
}
